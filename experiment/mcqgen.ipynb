{
 "cells": [
  {
   "cell_type": "code",
   "execution_count": 53,
   "metadata": {
    "vscode": {
     "languageId": "bat"
    }
   },
   "outputs": [],
   "source": [
    "##RAG pipeline With vector Database"
   ]
  },
  {
   "cell_type": "code",
   "execution_count": 113,
   "metadata": {},
   "outputs": [
    {
     "data": {
      "text/plain": [
       "[Document(metadata={'source': '../requirements.txt'}, page_content='groq\\nlangchain\\nstreamlit\\npython-dotenv\\npyPDF2\\n\\n-e .')]"
      ]
     },
     "execution_count": 113,
     "metadata": {},
     "output_type": "execute_result"
    }
   ],
   "source": [
    "## Data Imgestion\n",
    "import os\n",
    "from dotenv import load_dotenv\n",
    "from langchain_groq import ChatGroq\n",
    "from langchain.prompts import PromptTemplate\n",
    "from langchain.chains import LLMChain , SequentialChain\n",
    "from langchain.chains import SimpleSequentialChain\n",
    "from langchain_community.document_loaders import TextLoader\n",
    "\n",
    "loader=TextLoader(\"../requirements.txt\")\n",
    "document=loader.load()\n",
    "document"
   ]
  },
  {
   "cell_type": "code",
   "execution_count": 55,
   "metadata": {},
   "outputs": [
    {
     "name": "stdout",
     "output_type": "stream",
     "text": [
      "--------> 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\n"
     ]
    },
    {
     "data": {
      "text/plain": [
       "<langchain_text_splitters.character.RecursiveCharacterTextSplitter at 0x1b16f617aa0>"
      ]
     },
     "execution_count": 55,
     "metadata": {},
     "output_type": "execute_result"
    }
   ],
   "source": [
    "from langchain.text_splitter import RecursiveCharacterTextSplitter\n",
    "\n",
    "load_dotenv()\n",
    "API_KEY = os.getenv(\"API_KEY\")\n",
    "print(\"-------->\",API_KEY)\n",
    "LANGCHAIN_API_KEY=os.getenv(\"LANGCHAIN_API_KEY\") \n",
    "\n",
    "\n",
    "RecursiveCharacterTextSplitter(chunk_size=1000,chunk_overlap=200)"
   ]
  },
  {
   "cell_type": "code",
   "execution_count": null,
   "metadata": {},
   "outputs": [
    {
     "name": "stdout",
     "output_type": "stream",
     "text": [
      "--------------> [Document(metadata={}, page_content='LangChain is a framework for developing applications powered by large language models (LLMs). \\nIt provides tools to manage, query, and retrieve relevant data from documents efficiently.')]\n"
     ]
    }
   ],
   "source": [
    "from langchain.text_splitter import RecursiveCharacterTextSplitter\n",
    "from langchain_community.vectorstores import FAISS\n",
    "from langchain_community.embeddings import SentenceTransformerEmbeddings\n",
    "from langchain.docstore.document import Document\n",
    "import os \n",
    "\n",
    "text = \"\"\"LangChain is a framework for developing applications powered by large language models (LLMs). \n",
    "It provides tools to manage, query, and retrieve relevant data from documents efficiently.\"\"\"\n",
    "\n",
    "text_splitter = RecursiveCharacterTextSplitter(chunk_size=1000, chunk_overlap=200)\n",
    "\n",
    "chunks=text_splitter.split_text(text)\n",
    "chunk_documents = [Document(page_content=chunk) for chunk in chunks]\n",
    "print(\"-------------->\",chunk_documents)\n",
    "\n"
   ]
  },
  {
   "cell_type": "code",
   "execution_count": null,
   "metadata": {},
   "outputs": [
    {
     "name": "stderr",
     "output_type": "stream",
     "text": [
      "Python-dotenv could not parse statement starting at line 8\n",
      "Python-dotenv could not parse statement starting at line 12\n",
      "Python-dotenv could not parse statement starting at line 13\n",
      "Python-dotenv could not parse statement starting at line 14\n",
      "Python-dotenv could not parse statement starting at line 15\n",
      "Python-dotenv could not parse statement starting at line 16\n",
      "Python-dotenv could not parse statement starting at line 20\n",
      "Python-dotenv could not parse statement starting at line 23\n",
      "Python-dotenv could not parse statement starting at line 24\n",
      "Python-dotenv could not parse statement starting at line 25\n",
      "Python-dotenv could not parse statement starting at line 26\n",
      "Python-dotenv could not parse statement starting at line 29\n"
     ]
    },
    {
     "name": "stdout",
     "output_type": "stream",
     "text": [
      "{\"1\": {\"mcq\": \"What is biology?\", \"options\": {\"a\": \"The study of non-living things\", \"b\": \"The scientific study of life\", \"c\": \"The study of the universe\", \"d\": \"The study of chemistry\"}, \"correct\": \"b\"}, \n",
      "\"2\": {\"mcq\": \"What is the broad scope of biology?\", \"options\": {\"a\": \"It only deals with plants\", \"b\": \"It only deals with animals\", \"c\": \"It is a natural science with a broad scope\", \"d\": \"It only deals with microorganisms\"}, \"correct\": \"c\"}, \n",
      "\"3\": {\"mcq\": \"What are all organisms made up of?\", \"options\": {\"a\": \"Tissues\", \"b\": \"Cells\", \"c\": \"Molecules\", \"d\": \"Genes\"}, \"correct\": \"b\"}, \n",
      "\"4\": {\"mcq\": \"What is hereditary information encoded in?\", \"options\": {\"a\": \"Cells\", \"b\": \"Genes\", \"c\": \"Tissues\", \"d\": \"Molecules\"}, \"correct\": \"b\"}, \n",
      "\"5\": {\"mcq\": \"What is the major theme that explains the unity and diversity of life?\", \"options\": {\"a\": \"Energy processing\", \"b\": \"Evolution\", \"c\": \"Genetics\", \"d\": \"Ecology\"}, \"correct\": \"b\"}, \n",
      "\"6\": {\"mcq\": \"Why is energy processing important to life?\", \"options\": {\"a\": \"It allows organisms to only move\", \"b\": \"It allows organisms to only grow\", \"c\": \"It allows organisms to move, grow, and reproduce\", \"d\": \"It allows organisms to only reproduce\"}, \"correct\": \"c\"}, \n",
      "\"7\": {\"mcq\": \"What do all organisms have the ability to do?\", \"options\": {\"a\": \"Regulate their external environments\", \"b\": \"Regulate their internal environments\", \"c\": \"Only move\", \"d\": \"Only grow\"}, \"correct\": \"b\"}, \n",
      "\"8\": {\"mcq\": \"What ties biology together as a single, coherent field?\", \"options\": {\"a\": \"Several unifying themes\", \"b\": \"Several dividing themes\", \"c\": \"No themes at all\", \"d\": \"Only one theme\"}, \"correct\": \"a\"}, \n",
      "\"9\": {\"mcq\": \"What is the result of hereditary information being encoded in genes?\", \"options\": {\"a\": \"It cannot be transmitted to future generations\", \"b\": \"It can be transmitted to future generations\", \"c\": \"It is only transmitted to present generations\", \"d\": \"It is only transmitted to past generations\"}, \"correct\": \"b\"}, \n",
      "\"10\": {\"mcq\": \"What do cells process?\", \"options\": {\"a\": \"Non-hereditary information\", \"b\": \"Hereditary information\", \"c\": \"Only genetic information\", \"d\": \"Only non-genetic information\"}, \"correct\": \"b\"}, \n",
      "\"11\": {\"mcq\": \"What is the field of biology considered as?\", \"options\": {\"a\": \"A social science\", \"b\": \"A natural science\", \"c\": \"A formal science\", \"d\": \"A applied science\"}, \"correct\": \"b\"}, \n",
      "\"12\": {\"mcq\": \"What is unique about the study of biology?\", \"options\": {\"a\": \"It has a narrow scope\", \"b\": \"It has a broad scope but several unifying themes\", \"c\": \"It only deals with one type of organism\", \"d\": \"It does not deal with living things\"}, \"correct\": \"b\"}, \n",
      "\"13\": {\"mcq\": \"What is evolution?\", \"options\": {\"a\": \"The process of energy production\", \"b\": \"The process of hereditary information transmission\", \"c\": \"The explanation of the unity and diversity of life\", \"d\": \"The process of cell division\"}, \"correct\": \"c\"}, \n",
      "\"14\": {\"mcq\": \"What is the significance of cells in biology?\", \"options\": {\"a\": \"They are not important\", \"b\": \"They are the basic units of life\", \"c\": \"They are only found in plants\", \"d\": \"They are only found in animals\"}, \"correct\": \"b\"}, \n",
      "\"15\": {\"mcq\": \"What is the role of genes in biology?\", \"options\": {\"a\": \"They do not play a role\", \"b\": \"They encode hereditary information\", \"c\": \"They only deal with energy production\", \"d\": \"They only deal with cell division\"}, \"correct\": \"b\"}, \n",
      "\"16\": {\"mcq\": \"What is the relationship between energy processing and life?\", \"options\": {\"a\": \"Energy processing is not important for life\", \"b\": \"Energy processing is only important for movement\", \"c\": \"Energy processing is important for life as it allows organisms to move, grow, and reproduce\", \"d\": \"Energy processing is only important for growth\"}, \"correct\": \"c\"}, \n",
      "\"17\": {\"mcq\": \"What do organisms use to maintain their internal environments?\", \"options\": {\"a\": \"External regulation\", \"b\": \"Internal regulation\", \"c\": \"No regulation\", \"d\": \"Only energy processing\"}, \"correct\": \"b\"}, \n",
      "\"18\": {\"mcq\": \"What is the result of the ability of organisms to regulate their internal environments?\", \"options\": {\"a\": \"They are unable to adapt to their environments\", \"b\": \"They are able to maintain homeostasis\", \"c\": \"They are only able to move\", \"d\": \"They are only able to grow\"}, \"correct\": \"b\"}, \n",
      "\"19\": {\"mcq\": \"What is the significance of the unity and diversity of life in biology?\", \"options\": {\"a\": \"It is not significant\", \"b\": \"It is explained by evolution\", \"c\": \"It is only explained by genetics\", \"d\": \"It is only explained by ecology\"}, \"correct\": \"b\"}, \n",
      "\"20\": {\"mcq\": \"What is the overall goal of the study of biology?\", \"options\": {\"a\": \"To only understand the structure of cells\", \"b\": \"To only understand the process of energy production\", \"c\": \"To understand the scientific study of life\", \"d\": \"To only understand the process of evolution\"}, \"correct\": \"c\"}}\n"
     ]
    }
   ],
   "source": [
    "from groq import Groq\n",
    "from langchain_groq import ChatGroq\n",
    "from dotenv import load_dotenv \n",
    "import os\n",
    "import json\n",
    "from langchain_core.prompts import ChatPromptTemplate\n",
    "from langchain.chains import LLMChain , SequentialChain\n",
    "\n",
    "\n",
    "load_dotenv()\n",
    "\n",
    "API_KEY = os.getenv(\"API_KEY\")\n",
    "\n",
    "client = ChatGroq(api_key=API_KEY, model=\"llama3-70b-8192\")\n",
    "\n",
    "\n",
    "clients = Groq(api_key=API_KEY)\n",
    "\n",
    "\n",
    "TEMPLATE=\"\"\"\n",
    "Text:{text}\n",
    "You are an expert MCQ maker. Given the above text, it is your job to \\\n",
    "create a quiz  of {number} multiple choice questions for {subject} students in {tone} tone. \n",
    "Make sure the questions are not repeated and check all the questions to be conforming the text as well.\n",
    "Make sure to format your response like  RESPONSE_JSON below  and use it as a guide. \\\n",
    "Ensure to make {number} MCQs\n",
    "### RESPONSE_JSON\n",
    "{RESPONSE_JSON}\n",
    "\"\"\"\n",
    "\n",
    "\n",
    "with open(\"../src/Response.json\",\"r\") as f:\n",
    "    RESPONSE_JSON=json.load(f)\n",
    "    \n",
    "    \n",
    "    \n",
    "quiz_generation_prompt=ChatPromptTemplate(\n",
    "    input_variables=[\"text\",\"number\",\"subject\",\"tone\",\"RESPONSE_JSON\"],\n",
    "    messages=[ \n",
    "        {\"role\": \"user\", \"content\": TEMPLATE}\n",
    "    ]\n",
    ")\n",
    "\n",
    "\n",
    "quiz_chain=LLMChain(llm=client,prompt=quiz_generation_prompt,output_key=\"quiz\",verbose=True)\n",
    "\n",
    "     \n",
    "     \n",
    "TEMPLATE2=\"\"\"\n",
    "You are an expert english grammarian and writer. Given a Multiple Choice Quiz for {subject} students.\\\n",
    "You need to evaluate the complexity of the question and give a complete analysis of the quiz. Only use at max 50 words for complexity analysis. \n",
    "if the quiz is not at per with the cognitive and analytical abilities of the students,\\\n",
    "update the quiz questions which needs to be changed and change the tone such that it perfectly fits the student abilities\n",
    "Quiz_MCQs:\n",
    "{quiz}\n",
    "\n",
    "Check from an expert English Writer of the above quiz:\n",
    "\"\"\"\n",
    "\n",
    "\n",
    "quiz_evaluation_prompt=ChatPromptTemplate(\n",
    "    input_variables=[\"subject\",\"quiz\"],\n",
    "    messages=[ \n",
    "        {\"role\": \"user\", \"content\": TEMPLATE2}\n",
    "    ]\n",
    ")\n",
    "\n",
    "review_chain=LLMChain(llm=client,prompt=quiz_evaluation_prompt,output_key=\"review\",verbose=True)\n",
    "\n",
    "generate_evaluate_chain=SequentialChain(chains=[quiz_chain,review_chain] , input_variables=[\"text\",\"number\",\"subject\",\"tone\",\"RESPONSE_JSON\"] , output_variables=[\"quiz\",\"review\"],verbose=True)\n",
    "\n",
    "PATH=\"../src/data.txt\"\n",
    "\n",
    "with open(PATH,\"r\") as file:\n",
    "   TEXT = file.read()\n",
    "   \n",
    "   \n",
    "generate_evaluate_chain\n",
    "\n",
    "TEXT\n",
    "NUMBER=20\n",
    "SUBJECT=\"AI\"\n",
    "TONE=\"Simple\"\n",
    "RESPONSE_JSON=RESPONSE_JSON\n",
    " \n",
    "\n",
    "def call_groq(prompt):\n",
    "    response = clients.chat.completions.create(\n",
    "        model=\"llama-3.3-70b-versatile\",\n",
    "        messages=[\n",
    "            {\"role\": \"system\", \"content\": \"You are an expert MCQ creator.\"},\n",
    "            {\"role\": \"user\", \"content\": prompt}\n",
    "        ],\n",
    "        temperature=0.7,\n",
    "        max_tokens=3000\n",
    "    )\n",
    "    return response.choices[0].message.content\n",
    "\n",
    "\n",
    "\n",
    "def generate_quiz_prompt(text, number, subject, tone, response_json):\n",
    "    return TEMPLATE.format(\n",
    "        text=text,\n",
    "        number=number,\n",
    "        subject=subject,\n",
    "        tone=tone,\n",
    "        RESPONSE_JSON=json.dumps(response_json)\n",
    "    ) \n",
    "\n",
    "quiz_prompt = generate_quiz_prompt(TEXT, NUMBER, SUBJECT, TONE, RESPONSE_JSON)\n",
    "mcq_response = call_groq(quiz_prompt) \n",
    "\n",
    "print(mcq_response)\n",
    "\n",
    "\n"
   ]
  }
 ],
 "metadata": {
  "kernelspec": {
   "display_name": "base",
   "language": "python",
   "name": "python3"
  },
  "language_info": {
   "codemirror_mode": {
    "name": "ipython",
    "version": 3
   },
   "file_extension": ".py",
   "mimetype": "text/x-python",
   "name": "python",
   "nbconvert_exporter": "python",
   "pygments_lexer": "ipython3",
   "version": "3.12.7"
  }
 },
 "nbformat": 4,
 "nbformat_minor": 2
}
